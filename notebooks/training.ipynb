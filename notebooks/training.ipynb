{
 "cells": [
  {
   "cell_type": "markdown",
   "metadata": {},
   "source": [
    "# FixMatch and ABC Training Comparison\n",
    "\n",
    "This notebook runs and compares the training of the original FixMatch algorithm and the Auxiliary Balanced Classifier (ABC) enhanced version. We'll train both models on the CIFAR-10 & CIFAR-100 datasets and compare their performance.\n",
    "\n",
    "---\n",
    "\n",
    "## Table of Contents\n",
    "\n",
    "1. [Setup](#Setup)\n",
    "2. [Imports and Seed Initialization](#Imports-and-Seed-Initialization)\n",
    "3. [Dataset Preparation](#Dataset-Preparation)\n",
    "4. [Model Definitions](#Model-Definitions)\n",
    "5. [Training Functions](#Training-Functions)\n",
    "6. [Training Original FixMatch Model](#Training-Original-FixMatch-Model)\n",
    "7. [Training ABC Model](#Training-ABC-Model)\n",
    "8. [Results Comparison](#Results-Comparison)\n",
    "9. [Conclusion](#Conclusion)\n",
    "\n",
    "---\n",
    "\n"
   ]
  },
  {
   "cell_type": "code",
   "execution_count": null,
   "metadata": {},
   "outputs": [
    {
     "ename": "ModuleNotFoundError",
     "evalue": "No module named 'torch'",
     "output_type": "error",
     "traceback": [
      "\u001b[1;31m---------------------------------------------------------------------------\u001b[0m",
      "\u001b[1;31mModuleNotFoundError\u001b[0m                       Traceback (most recent call last)",
      "Cell \u001b[1;32mIn[1], line 11\u001b[0m\n\u001b[0;32m      8\u001b[0m sys\u001b[38;5;241m.\u001b[39mpath\u001b[38;5;241m.\u001b[39mappend(project_root)\n\u001b[0;32m     10\u001b[0m \u001b[38;5;66;03m# Import your modules\u001b[39;00m\n\u001b[1;32m---> 11\u001b[0m \u001b[38;5;28;01mfrom\u001b[39;00m \u001b[38;5;21;01mmain\u001b[39;00m \u001b[38;5;28;01mimport\u001b[39;00m set_seed\n\u001b[0;32m     12\u001b[0m \u001b[38;5;28;01mfrom\u001b[39;00m \u001b[38;5;21;01mexperiments\u001b[39;00m \u001b[38;5;28;01mimport\u001b[39;00m train_fixmatch, train_abc\n",
      "File \u001b[1;32mc:\\Users\\aakaz\\OneDrive\\Documents\\Honours Project\\main.py:4\u001b[0m\n\u001b[0;32m      2\u001b[0m \u001b[38;5;28;01mimport\u001b[39;00m \u001b[38;5;21;01mrandom\u001b[39;00m\n\u001b[0;32m      3\u001b[0m \u001b[38;5;28;01mimport\u001b[39;00m \u001b[38;5;21;01mnumpy\u001b[39;00m \u001b[38;5;28;01mas\u001b[39;00m \u001b[38;5;21;01mnp\u001b[39;00m\n\u001b[1;32m----> 4\u001b[0m \u001b[38;5;28;01mimport\u001b[39;00m \u001b[38;5;21;01mtorch\u001b[39;00m\n\u001b[0;32m      6\u001b[0m \u001b[38;5;28;01mdef\u001b[39;00m \u001b[38;5;21mset_seed\u001b[39m(seed):\n\u001b[0;32m      7\u001b[0m \u001b[38;5;250m    \u001b[39m\u001b[38;5;124;03m\"\"\"\u001b[39;00m\n\u001b[0;32m      8\u001b[0m \u001b[38;5;124;03m    Set the random seed for reproducibility.\u001b[39;00m\n\u001b[0;32m      9\u001b[0m \u001b[38;5;124;03m    \"\"\"\u001b[39;00m\n",
      "\u001b[1;31mModuleNotFoundError\u001b[0m: No module named 'torch'"
     ]
    }
   ],
   "source": [
    "import os\n",
    "import sys\n",
    "import random\n",
    "import numpy as np\n",
    "import matplotlib.pyplot as plt\n",
    "import torch\n",
    "project_root = os.path.abspath('..')  # Parent directory\n",
    "sys.path.append(project_root)\n",
    "\n",
    "# Import your modules\n",
    "from main import set_seed\n",
    "from experiments import train_fixmatch, train_abc"
   ]
  },
  {
   "cell_type": "code",
   "execution_count": null,
   "metadata": {},
   "outputs": [],
   "source": [
    "set_seed(42)"
   ]
  },
  {
   "cell_type": "code",
   "execution_count": null,
   "metadata": {},
   "outputs": [],
   "source": [
    "device = 'cuda' if torch.cuda.is_available() else 'cpu'\n",
    "print(f'Using device: {device}')"
   ]
  },
  {
   "cell_type": "code",
   "execution_count": null,
   "metadata": {},
   "outputs": [],
   "source": [
    "\n",
    "\n",
    "\n",
    "original_argv = sys.argv.copy()\n",
    "\n",
    "sys.argv = [\n",
    "    'main.py',\n",
    "    '--experiment', 'fixmatch',\n",
    "    '--dataset', 'cifar10',\n",
    "    '--num-labeled', '4000',\n",
    "    '--batch-size', '64',\n",
    "    '--mu', '7',\n",
    "    '--epochs', '100',  # Adjust as needed\n",
    "    '--lr', '0.03',\n",
    "    '--threshold', '0.95',\n",
    "    '--seed', '42',\n",
    "    '--device', device\n",
    "]\n",
    "\n",
    "import main\n",
    "\n",
    "print(\"Starting FixMatch Training:\")\n",
    "main.main()\n",
    "\n",
    "sys.argv = original_argv\n",
    "\n"
   ]
  },
  {
   "cell_type": "code",
   "execution_count": null,
   "metadata": {},
   "outputs": [],
   "source": [
    "\n",
    "\n",
    "original_argv = sys.argv.copy()\n",
    "\n",
    "sys.argv = [\n",
    "    'main.py',\n",
    "    '--experiment', 'abc',\n",
    "    '--dataset', 'cifar10',\n",
    "    '--num-labeled', '4000',\n",
    "    '--batch-size', '64',\n",
    "    '--mu', '7',\n",
    "    '--epochs', '100',\n",
    "    '--lr', '0.03',\n",
    "    '--alpha', '1.0',\n",
    "    '--lambda-u', '1.0',\n",
    "    '--threshold', '0.95',\n",
    "    '--seed', '42',\n",
    "    '--device', device\n",
    "]\n",
    "import importlib\n",
    "importlib.reload(main)\n",
    "\n",
    "print(\"\\nStarting ABC Training:\")\n",
    "main.main()\n",
    "sys.argv = original_argv\n",
    "\n"
   ]
  }
 ],
 "metadata": {
  "kernelspec": {
   "display_name": "Python 3",
   "language": "python",
   "name": "python3"
  },
  "language_info": {
   "codemirror_mode": {
    "name": "ipython",
    "version": 3
   },
   "file_extension": ".py",
   "mimetype": "text/x-python",
   "name": "python",
   "nbconvert_exporter": "python",
   "pygments_lexer": "ipython3",
   "version": "3.11.9"
  }
 },
 "nbformat": 4,
 "nbformat_minor": 2
}
