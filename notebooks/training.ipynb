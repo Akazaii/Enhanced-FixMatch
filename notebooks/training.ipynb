{
 "cells": [
  {
   "cell_type": "markdown",
   "metadata": {},
   "source": [
    "# FixMatch and ABC Training Comparison\n",
    "\n",
    "This notebook runs and compares the training of the original FixMatch algorithm and the Auxiliary Balanced Classifier (ABC) enhanced version. We'll train both models on the CIFAR-10 & CIFAR-100 datasets and compare their performance.\n",
    "\n",
    "---\n",
    "\n",
    "## Table of Contents\n",
    "\n",
    "1. [Setup](#Setup)\n",
    "2. [Imports and Seed Initialization](#Imports-and-Seed-Initialization)\n",
    "3. [Dataset Preparation](#Dataset-Preparation)\n",
    "4. [Model Definitions](#Model-Definitions)\n",
    "5. [Training Functions](#Training-Functions)\n",
    "6. [Training Original FixMatch Model](#Training-Original-FixMatch-Model)\n",
    "7. [Training ABC Model](#Training-ABC-Model)\n",
    "8. [Results Comparison](#Results-Comparison)\n",
    "9. [Conclusion](#Conclusion)\n",
    "\n",
    "---\n",
    "\n"
   ]
  },
  {
   "cell_type": "code",
   "execution_count": null,
   "metadata": {},
   "outputs": [
    {
     "name": "stderr",
     "output_type": "stream",
     "text": [
      "/Users/akazai/mambaforge/envs/enhanced-fixmatch/lib/python3.12/site-packages/torchvision/io/image.py:14: UserWarning: Failed to load image Python extension: 'dlopen(/Users/akazai/mambaforge/envs/enhanced-fixmatch/lib/python3.12/site-packages/torchvision/image.so, 0x0006): Library not loaded: @rpath/libjpeg.9.dylib\n",
      "  Referenced from: <367D4265-B20F-34BD-94EB-4F3EE47C385B> /Users/akazai/mambaforge/envs/enhanced-fixmatch/lib/python3.12/site-packages/torchvision/image.so\n",
      "  Reason: tried: '/Users/akazai/mambaforge/envs/enhanced-fixmatch/lib/python3.12/site-packages/torchvision/../../../libjpeg.9.dylib' (no such file), '/Users/akazai/mambaforge/envs/enhanced-fixmatch/lib-dynload/../../libjpeg.9.dylib' (no such file), '/Users/akazai/mambaforge/envs/enhanced-fixmatch/bin/../lib/libjpeg.9.dylib' (no such file)'If you don't plan on using image functionality from `torchvision.io`, you can ignore this warning. Otherwise, there might be something wrong with your environment. Did you have `libjpeg` or `libpng` installed before building `torchvision` from source?\n",
      "  warn(\n"
     ]
    }
   ],
   "source": [
    "import os\n",
    "import sys\n",
    "import random\n",
    "import numpy as np\n",
    "import matplotlib.pyplot as plt\n",
    "import torch\n",
    "\n",
    "project_root = os.path.abspath('..')  # Parent directory\n",
    "sys.path.append(project_root)\n",
    "\n",
    "# Import your modules\n",
    "from main import set_seed\n",
    "from scripts.train_original import main as train_original_main"
   ]
  },
  {
   "cell_type": "code",
   "execution_count": null,
   "metadata": {},
   "outputs": [],
   "source": [
    "# Set the random seed\n",
    "set_seed(42)"
   ]
  },
  {
   "cell_type": "code",
   "execution_count": null,
   "metadata": {},
   "outputs": [
    {
     "name": "stdout",
     "output_type": "stream",
     "text": [
      "Using device: cpu\n"
     ]
    }
   ],
   "source": [
    "device = 'cuda' if torch.cuda.is_available() else 'cpu'\n",
    "print(f'Using device: {device}')"
   ]
  },
  {
   "cell_type": "code",
   "execution_count": null,
   "metadata": {},
   "outputs": [
    {
     "name": "stdout",
     "output_type": "stream",
     "text": [
      "Starting FixMatch Training:\n"
     ]
    },
    {
     "name": "stderr",
     "output_type": "stream",
     "text": [
      "usage: main.py [-h] [--dataset DATASET] [--num-labeled NUM_LABELED]\n",
      "               [--batch-size BATCH_SIZE] [--mu MU] [--epochs EPOCHS] [--lr LR]\n",
      "               [--alpha ALPHA] [--lambda-u LAMBDA_U] [--threshold THRESHOLD]\n",
      "               [--device DEVICE]\n",
      "main.py: error: unrecognized arguments: --experiment fixmatch --seed 42\n"
     ]
    },
    {
     "ename": "SystemExit",
     "evalue": "2",
     "output_type": "error",
     "traceback": [
      "An exception has occurred, use %tb to see the full traceback.\n",
      "\u001b[0;31mSystemExit\u001b[0m\u001b[0;31m:\u001b[0m 2\n"
     ]
    },
    {
     "name": "stderr",
     "output_type": "stream",
     "text": [
      "/Users/akazai/mambaforge/envs/enhanced-fixmatch/lib/python3.12/site-packages/IPython/core/interactiveshell.py:3585: UserWarning: To exit: use 'exit', 'quit', or Ctrl-D.\n",
      "  warn(\"To exit: use 'exit', 'quit', or Ctrl-D.\", stacklevel=1)\n"
     ]
    }
   ],
   "source": [
    "# Save the original sys.argv\n",
    "original_argv = sys.argv.copy()\n",
    "\n",
    "# Set the arguments for the Original FixMatch experiment\n",
    "sys.argv = [\n",
    "    'main.py',\n",
    "    '--experiment', 'original_fixmatch',\n",
    "    '--seed', '42',\n",
    "    '--dataset', 'cifar10',\n",
    "    '--num-labeled', '4000',\n",
    "    '--batch-size', '64',\n",
    "    '--mu', '7',\n",
    "    '--epochs', '1',  # Shortened for testing\n",
    "    '--lr', '0.03',\n",
    "    '--threshold', '0.95',\n",
    "    '--device', device,\n",
    "    '--out', 'results_original'  # Save results in results_original directory\n",
    "]\n",
    "\n",
    "args = parse_args()\n",
    "print(\"Starting Original FixMatch Training:\")\n",
    "train_original_main(args)\n",
    "\n",
    "# Restore the original sys.argv\n",
    "sys.argv = original_argv"
   ]
  },
  {
   "cell_type": "code",
   "execution_count": null,
   "metadata": {},
   "outputs": [],
   "source": [
    "# Save the original sys.argv\n",
    "original_argv = sys.argv.copy()\n",
    "\n",
    "# Set the arguments for the Enhanced FixMatch experiment\n",
    "sys.argv = [\n",
    "    'main.py',\n",
    "    '--experiment', 'enhanced_fixmatch',\n",
    "    '--seed', '42',\n",
    "    '--dataset', 'cifar10',\n",
    "    '--num-labeled', '4000',\n",
    "    '--batch-size', '64',\n",
    "    '--mu', '7',\n",
    "    '--epochs', '1',  # Shortened for testing\n",
    "    '--lr', '0.03',\n",
    "    '--threshold', '0.95',\n",
    "    '--device', device,\n",
    "    '--out', 'results_enhanced'  # Save results in results_enhanced directory\n",
    "]\n",
    "\n",
    "args = parse_args()\n",
    "print(\"Starting Enhanced FixMatch Training:\")\n",
    "train_original_main(args)\n",
    "\n",
    "# Restore the original sys.argv\n",
    "sys.argv = original_argv"
   ]
  }
 ],
 "metadata": {
  "kernelspec": {
   "display_name": "enhanced-fixmatch",
   "language": "python",
   "name": "python3"
  },
  "language_info": {
   "codemirror_mode": {
    "name": "ipython",
    "version": 3
   },
   "file_extension": ".py",
   "mimetype": "text/x-python",
   "name": "python",
   "nbconvert_exporter": "python",
   "pygments_lexer": "ipython3",
   "version": "3.12.7"
  }
 },
 "nbformat": 4,
 "nbformat_minor": 2
}
